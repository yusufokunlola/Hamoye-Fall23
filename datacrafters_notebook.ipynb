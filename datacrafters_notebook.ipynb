{
  "cells": [
    {
      "cell_type": "markdown",
      "metadata": {
        "colab_type": "text",
        "id": "view-in-github"
      },
      "source": [
        "<a href=\"https://colab.research.google.com/github/adeakinwe/TeamFlask_notebook/blob/master/TeamFlask_notebook.ipynb\" target=\"_parent\"><img src=\"https://colab.research.google.com/assets/colab-badge.svg\" alt=\"Open In Colab\"/></a>"
      ]
    },
    {
      "cell_type": "markdown",
      "metadata": {
        "id": "IASZTwoYb7qc"
      },
      "source": [
        "<center> <H1> Data Crafters Project - Fall'23 </H1> </center>"
      ]
    },
    {
      "cell_type": "markdown",
      "metadata": {
        "id": "3dJPMyVQb7qj"
      },
      "source": [
        "### Project Title:\n",
        "### Content\n",
        "\n",
        "- 1 set of Strings - The country names\n",
        "- 1 set of Integers - The years in which the data were recorded (2010-2014).\n",
        "- 6 sets of floats - 6 columns of floats record the total density of health centers and hospitals (including provincial and specialized) to every 100,000 people within the country… thus generalizing the country's access to health care, and maintenance/creation of the health infrastructure needed to support the population.\n",
        "\n",
        "The dataset was from the World Health Organization and the Global Health Observatory and retrieved from [Kaggle](https://www.kaggle.com/datasets/binarydragon/who-health-infrastructure-complete-data/)."
      ]
    },
    {
      "cell_type": "markdown",
      "metadata": {
        "id": "FatXzlZjb7qk"
      },
      "source": [
        "# Import libraries"
      ]
    },
    {
      "cell_type": "code",
      "execution_count": 1,
      "metadata": {
        "colab": {
          "base_uri": "https://localhost:8080/",
          "height": 17
        },
        "id": "LBAoQ-J2b7qk",
        "outputId": "43096aa8-0a2e-4212-b5a4-5719d587ff41"
      },
      "outputs": [],
      "source": [
        "# import libraries\n",
        "import pandas as pd\n",
        "import numpy as np\n",
        "import matplotlib.pyplot as plt \n",
        "import seaborn as sns\n",
        "\n",
        "import warnings\n",
        "warnings.filterwarnings(\"ignore\")"
      ]
    },
    {
      "cell_type": "code",
      "execution_count": 2,
      "metadata": {
        "colab": {
          "base_uri": "https://localhost:8080/"
        },
        "id": "uZzDlN0Cb7qm",
        "outputId": "c8f0cb4c-bb13-486f-c848-07b330c47aaf"
      },
      "outputs": [],
      "source": [
        "# mounting google drive to google colab\n",
        "# from google.colab import drive\n",
        "\n",
        "# drive.mount('/content/drive/')"
      ]
    },
    {
      "cell_type": "code",
      "execution_count": 3,
      "metadata": {
        "colab": {
          "base_uri": "https://localhost:8080/"
        },
        "id": "sfy--z2eiDfA",
        "outputId": "a8f0cd87-26d4-4b35-dc70-18bf24358bed"
      },
      "outputs": [
        {
          "name": "stdout",
          "output_type": "stream",
          "text": [
            "Data imported successfully\n"
          ]
        }
      ],
      "source": [
        "# load dataset\n",
        "\n",
        "dataset = pd.read_csv(\"dataset/WHO_Infrastructure_2010_2014.csv\")\n",
        "#print(\"Data imported successfully\")\n",
        "\n",
        "# dataset = pd.read_csv(\"/content/drive/MyDrive/WHO_Infrastructure_2010_2014.csv\")\n",
        "\n",
        "print(\"Data imported successfully\")"
      ]
    },
    {
      "cell_type": "code",
      "execution_count": 4,
      "metadata": {
        "id": "vuJPldoYTngP"
      },
      "outputs": [],
      "source": [
        "# create a copy of the original dataset\n",
        "df = dataset.copy()"
      ]
    },
    {
      "cell_type": "markdown",
      "metadata": {
        "id": "MtR-F8ZCdgTT"
      },
      "source": [
        "# Data Inspection"
      ]
    },
    {
      "cell_type": "code",
      "execution_count": 5,
      "metadata": {
        "colab": {
          "base_uri": "https://localhost:8080/",
          "height": 560
        },
        "id": "7dznXi_Mb7qo",
        "outputId": "67472a4f-9a91-488a-8118-6ed48a9eed8a"
      },
      "outputs": [
        {
          "data": {
            "text/html": [
              "<div>\n",
              "<style scoped>\n",
              "    .dataframe tbody tr th:only-of-type {\n",
              "        vertical-align: middle;\n",
              "    }\n",
              "\n",
              "    .dataframe tbody tr th {\n",
              "        vertical-align: top;\n",
              "    }\n",
              "\n",
              "    .dataframe thead th {\n",
              "        text-align: right;\n",
              "    }\n",
              "</style>\n",
              "<table border=\"1\" class=\"dataframe\">\n",
              "  <thead>\n",
              "    <tr style=\"text-align: right;\">\n",
              "      <th></th>\n",
              "      <th>Country</th>\n",
              "      <th>Year</th>\n",
              "      <th>Total density per 100 000 population: Health posts</th>\n",
              "      <th>Total density per 100 000 population: Health centres</th>\n",
              "      <th>Total density per 100 000 population: District/rural hospitals</th>\n",
              "      <th>Total density per 100 000 population: Provincial hospitals</th>\n",
              "      <th>Total density per 100 000 population: Specialized hospitals</th>\n",
              "      <th>Total density per 100 000 population: Hospitals</th>\n",
              "    </tr>\n",
              "  </thead>\n",
              "  <tbody>\n",
              "    <tr>\n",
              "      <th>0</th>\n",
              "      <td>Afghanistan</td>\n",
              "      <td>2013</td>\n",
              "      <td>2.95</td>\n",
              "      <td>1.22</td>\n",
              "      <td>0.18</td>\n",
              "      <td>0.10</td>\n",
              "      <td>0.09</td>\n",
              "      <td>0.37</td>\n",
              "    </tr>\n",
              "    <tr>\n",
              "      <th>1</th>\n",
              "      <td>Afghanistan</td>\n",
              "      <td>2010</td>\n",
              "      <td>2.87</td>\n",
              "      <td>1.19</td>\n",
              "      <td>0.18</td>\n",
              "      <td>0.10</td>\n",
              "      <td>0.08</td>\n",
              "      <td>NaN</td>\n",
              "    </tr>\n",
              "    <tr>\n",
              "      <th>2</th>\n",
              "      <td>Albania</td>\n",
              "      <td>2013</td>\n",
              "      <td>13.08</td>\n",
              "      <td>NaN</td>\n",
              "      <td>0.72</td>\n",
              "      <td>0.35</td>\n",
              "      <td>0.28</td>\n",
              "      <td>1.36</td>\n",
              "    </tr>\n",
              "    <tr>\n",
              "      <th>3</th>\n",
              "      <td>Albania</td>\n",
              "      <td>2010</td>\n",
              "      <td>12.95</td>\n",
              "      <td>NaN</td>\n",
              "      <td>0.72</td>\n",
              "      <td>0.34</td>\n",
              "      <td>0.28</td>\n",
              "      <td>NaN</td>\n",
              "    </tr>\n",
              "    <tr>\n",
              "      <th>4</th>\n",
              "      <td>Angola</td>\n",
              "      <td>2010</td>\n",
              "      <td>NaN</td>\n",
              "      <td>NaN</td>\n",
              "      <td>NaN</td>\n",
              "      <td>0.00</td>\n",
              "      <td>0.00</td>\n",
              "      <td>NaN</td>\n",
              "    </tr>\n",
              "  </tbody>\n",
              "</table>\n",
              "</div>"
            ],
            "text/plain": [
              "       Country  Year  Total density per 100 000 population: Health posts  \\\n",
              "0  Afghanistan  2013                                               2.95    \n",
              "1  Afghanistan  2010                                               2.87    \n",
              "2      Albania  2013                                              13.08    \n",
              "3      Albania  2010                                              12.95    \n",
              "4       Angola  2010                                                NaN    \n",
              "\n",
              "   Total density per 100 000 population: Health centres  \\\n",
              "0                                               1.22      \n",
              "1                                               1.19      \n",
              "2                                                NaN      \n",
              "3                                                NaN      \n",
              "4                                                NaN      \n",
              "\n",
              "   Total density per 100 000 population: District/rural hospitals  \\\n",
              "0                                               0.18                \n",
              "1                                               0.18                \n",
              "2                                               0.72                \n",
              "3                                               0.72                \n",
              "4                                                NaN                \n",
              "\n",
              "   Total density per 100 000 population: Provincial hospitals  \\\n",
              "0                                               0.10            \n",
              "1                                               0.10            \n",
              "2                                               0.35            \n",
              "3                                               0.34            \n",
              "4                                               0.00            \n",
              "\n",
              "   Total density per 100 000 population: Specialized hospitals  \\\n",
              "0                                               0.09             \n",
              "1                                               0.08             \n",
              "2                                               0.28             \n",
              "3                                               0.28             \n",
              "4                                               0.00             \n",
              "\n",
              "   Total density per 100 000 population: Hospitals  \n",
              "0                                             0.37  \n",
              "1                                              NaN  \n",
              "2                                             1.36  \n",
              "3                                              NaN  \n",
              "4                                              NaN  "
            ]
          },
          "execution_count": 5,
          "metadata": {},
          "output_type": "execute_result"
        }
      ],
      "source": [
        "# inspect dataframe by printing out the first 5 rows\n",
        "df.head()"
      ]
    },
    {
      "cell_type": "code",
      "execution_count": 6,
      "metadata": {
        "id": "MG6Eie1Jak07"
      },
      "outputs": [],
      "source": [
        "#display all columns for better visibility\n",
        "pd.set_option('display.max_columns', None)"
      ]
    },
    {
      "cell_type": "code",
      "execution_count": 7,
      "metadata": {
        "colab": {
          "base_uri": "https://localhost:8080/",
          "height": 835
        },
        "id": "TiTkKvcdasug",
        "outputId": "5cdfeb29-16e1-4392-eca0-e2e384d398c3"
      },
      "outputs": [
        {
          "data": {
            "text/html": [
              "<div>\n",
              "<style scoped>\n",
              "    .dataframe tbody tr th:only-of-type {\n",
              "        vertical-align: middle;\n",
              "    }\n",
              "\n",
              "    .dataframe tbody tr th {\n",
              "        vertical-align: top;\n",
              "    }\n",
              "\n",
              "    .dataframe thead th {\n",
              "        text-align: right;\n",
              "    }\n",
              "</style>\n",
              "<table border=\"1\" class=\"dataframe\">\n",
              "  <thead>\n",
              "    <tr style=\"text-align: right;\">\n",
              "      <th></th>\n",
              "      <th>Country</th>\n",
              "      <th>Year</th>\n",
              "      <th>Total density per 100 000 population: Health posts</th>\n",
              "      <th>Total density per 100 000 population: Health centres</th>\n",
              "      <th>Total density per 100 000 population: District/rural hospitals</th>\n",
              "      <th>Total density per 100 000 population: Provincial hospitals</th>\n",
              "      <th>Total density per 100 000 population: Specialized hospitals</th>\n",
              "      <th>Total density per 100 000 population: Hospitals</th>\n",
              "    </tr>\n",
              "  </thead>\n",
              "  <tbody>\n",
              "    <tr>\n",
              "      <th>0</th>\n",
              "      <td>Afghanistan</td>\n",
              "      <td>2013</td>\n",
              "      <td>2.95</td>\n",
              "      <td>1.22</td>\n",
              "      <td>0.18</td>\n",
              "      <td>0.10</td>\n",
              "      <td>0.09</td>\n",
              "      <td>0.37</td>\n",
              "    </tr>\n",
              "    <tr>\n",
              "      <th>1</th>\n",
              "      <td>Afghanistan</td>\n",
              "      <td>2010</td>\n",
              "      <td>2.87</td>\n",
              "      <td>1.19</td>\n",
              "      <td>0.18</td>\n",
              "      <td>0.10</td>\n",
              "      <td>0.08</td>\n",
              "      <td>NaN</td>\n",
              "    </tr>\n",
              "    <tr>\n",
              "      <th>2</th>\n",
              "      <td>Albania</td>\n",
              "      <td>2013</td>\n",
              "      <td>13.08</td>\n",
              "      <td>NaN</td>\n",
              "      <td>0.72</td>\n",
              "      <td>0.35</td>\n",
              "      <td>0.28</td>\n",
              "      <td>1.36</td>\n",
              "    </tr>\n",
              "    <tr>\n",
              "      <th>3</th>\n",
              "      <td>Albania</td>\n",
              "      <td>2010</td>\n",
              "      <td>12.95</td>\n",
              "      <td>NaN</td>\n",
              "      <td>0.72</td>\n",
              "      <td>0.34</td>\n",
              "      <td>0.28</td>\n",
              "      <td>NaN</td>\n",
              "    </tr>\n",
              "    <tr>\n",
              "      <th>4</th>\n",
              "      <td>Angola</td>\n",
              "      <td>2010</td>\n",
              "      <td>NaN</td>\n",
              "      <td>NaN</td>\n",
              "      <td>NaN</td>\n",
              "      <td>0.00</td>\n",
              "      <td>0.00</td>\n",
              "      <td>NaN</td>\n",
              "    </tr>\n",
              "    <tr>\n",
              "      <th>...</th>\n",
              "      <td>...</td>\n",
              "      <td>...</td>\n",
              "      <td>...</td>\n",
              "      <td>...</td>\n",
              "      <td>...</td>\n",
              "      <td>...</td>\n",
              "      <td>...</td>\n",
              "      <td>...</td>\n",
              "    </tr>\n",
              "    <tr>\n",
              "      <th>278</th>\n",
              "      <td>Yemen</td>\n",
              "      <td>2010</td>\n",
              "      <td>11.53</td>\n",
              "      <td>4.82</td>\n",
              "      <td>2.09</td>\n",
              "      <td>0.91</td>\n",
              "      <td>0.01</td>\n",
              "      <td>NaN</td>\n",
              "    </tr>\n",
              "    <tr>\n",
              "      <th>279</th>\n",
              "      <td>Zambia</td>\n",
              "      <td>2013</td>\n",
              "      <td>1.18</td>\n",
              "      <td>8.33</td>\n",
              "      <td>0.30</td>\n",
              "      <td>0.12</td>\n",
              "      <td>0.03</td>\n",
              "      <td>0.45</td>\n",
              "    </tr>\n",
              "    <tr>\n",
              "      <th>280</th>\n",
              "      <td>Zambia</td>\n",
              "      <td>2010</td>\n",
              "      <td>1.31</td>\n",
              "      <td>9.25</td>\n",
              "      <td>0.33</td>\n",
              "      <td>0.14</td>\n",
              "      <td>0.04</td>\n",
              "      <td>NaN</td>\n",
              "    </tr>\n",
              "    <tr>\n",
              "      <th>281</th>\n",
              "      <td>Zimbabwe</td>\n",
              "      <td>2013</td>\n",
              "      <td>0.00</td>\n",
              "      <td>9.41</td>\n",
              "      <td>0.37</td>\n",
              "      <td>0.08</td>\n",
              "      <td>0.08</td>\n",
              "      <td>0.52</td>\n",
              "    </tr>\n",
              "    <tr>\n",
              "      <th>282</th>\n",
              "      <td>Zimbabwe</td>\n",
              "      <td>2010</td>\n",
              "      <td>0.00</td>\n",
              "      <td>10.59</td>\n",
              "      <td>0.41</td>\n",
              "      <td>0.09</td>\n",
              "      <td>0.09</td>\n",
              "      <td>NaN</td>\n",
              "    </tr>\n",
              "  </tbody>\n",
              "</table>\n",
              "<p>283 rows × 8 columns</p>\n",
              "</div>"
            ],
            "text/plain": [
              "         Country  Year  Total density per 100 000 population: Health posts  \\\n",
              "0    Afghanistan  2013                                               2.95    \n",
              "1    Afghanistan  2010                                               2.87    \n",
              "2        Albania  2013                                              13.08    \n",
              "3        Albania  2010                                              12.95    \n",
              "4         Angola  2010                                                NaN    \n",
              "..           ...   ...                                                ...    \n",
              "278        Yemen  2010                                              11.53    \n",
              "279       Zambia  2013                                               1.18    \n",
              "280       Zambia  2010                                               1.31    \n",
              "281     Zimbabwe  2013                                               0.00    \n",
              "282     Zimbabwe  2010                                               0.00    \n",
              "\n",
              "     Total density per 100 000 population: Health centres  \\\n",
              "0                                                 1.22      \n",
              "1                                                 1.19      \n",
              "2                                                  NaN      \n",
              "3                                                  NaN      \n",
              "4                                                  NaN      \n",
              "..                                                 ...      \n",
              "278                                               4.82      \n",
              "279                                               8.33      \n",
              "280                                               9.25      \n",
              "281                                               9.41      \n",
              "282                                              10.59      \n",
              "\n",
              "     Total density per 100 000 population: District/rural hospitals  \\\n",
              "0                                                 0.18                \n",
              "1                                                 0.18                \n",
              "2                                                 0.72                \n",
              "3                                                 0.72                \n",
              "4                                                  NaN                \n",
              "..                                                 ...                \n",
              "278                                               2.09                \n",
              "279                                               0.30                \n",
              "280                                               0.33                \n",
              "281                                               0.37                \n",
              "282                                               0.41                \n",
              "\n",
              "     Total density per 100 000 population: Provincial hospitals  \\\n",
              "0                                                 0.10            \n",
              "1                                                 0.10            \n",
              "2                                                 0.35            \n",
              "3                                                 0.34            \n",
              "4                                                 0.00            \n",
              "..                                                 ...            \n",
              "278                                               0.91            \n",
              "279                                               0.12            \n",
              "280                                               0.14            \n",
              "281                                               0.08            \n",
              "282                                               0.09            \n",
              "\n",
              "     Total density per 100 000 population: Specialized hospitals  \\\n",
              "0                                                 0.09             \n",
              "1                                                 0.08             \n",
              "2                                                 0.28             \n",
              "3                                                 0.28             \n",
              "4                                                 0.00             \n",
              "..                                                 ...             \n",
              "278                                               0.01             \n",
              "279                                               0.03             \n",
              "280                                               0.04             \n",
              "281                                               0.08             \n",
              "282                                               0.09             \n",
              "\n",
              "     Total density per 100 000 population: Hospitals  \n",
              "0                                               0.37  \n",
              "1                                                NaN  \n",
              "2                                               1.36  \n",
              "3                                                NaN  \n",
              "4                                                NaN  \n",
              "..                                               ...  \n",
              "278                                              NaN  \n",
              "279                                             0.45  \n",
              "280                                              NaN  \n",
              "281                                             0.52  \n",
              "282                                              NaN  \n",
              "\n",
              "[283 rows x 8 columns]"
            ]
          },
          "execution_count": 7,
          "metadata": {},
          "output_type": "execute_result"
        }
      ],
      "source": [
        "#explore top 5 and bottom 5 data (full columns)\n",
        "df"
      ]
    },
    {
      "cell_type": "code",
      "execution_count": 8,
      "metadata": {
        "colab": {
          "base_uri": "https://localhost:8080/",
          "height": 520
        },
        "id": "5F167L8Wa4AY",
        "outputId": "d83bfa77-4faf-42f2-af10-c16c373eb1da"
      },
      "outputs": [
        {
          "data": {
            "text/html": [
              "<div>\n",
              "<style scoped>\n",
              "    .dataframe tbody tr th:only-of-type {\n",
              "        vertical-align: middle;\n",
              "    }\n",
              "\n",
              "    .dataframe tbody tr th {\n",
              "        vertical-align: top;\n",
              "    }\n",
              "\n",
              "    .dataframe thead th {\n",
              "        text-align: right;\n",
              "    }\n",
              "</style>\n",
              "<table border=\"1\" class=\"dataframe\">\n",
              "  <thead>\n",
              "    <tr style=\"text-align: right;\">\n",
              "      <th></th>\n",
              "      <th>Year</th>\n",
              "      <th>Total density per 100 000 population: Health posts</th>\n",
              "      <th>Total density per 100 000 population: Health centres</th>\n",
              "      <th>Total density per 100 000 population: District/rural hospitals</th>\n",
              "      <th>Total density per 100 000 population: Provincial hospitals</th>\n",
              "      <th>Total density per 100 000 population: Specialized hospitals</th>\n",
              "      <th>Total density per 100 000 population: Hospitals</th>\n",
              "    </tr>\n",
              "  </thead>\n",
              "  <tbody>\n",
              "    <tr>\n",
              "      <th>count</th>\n",
              "      <td>283.000000</td>\n",
              "      <td>222.000000</td>\n",
              "      <td>219.000000</td>\n",
              "      <td>244.000000</td>\n",
              "      <td>251.000000</td>\n",
              "      <td>252.000000</td>\n",
              "      <td>137.000000</td>\n",
              "    </tr>\n",
              "    <tr>\n",
              "      <th>mean</th>\n",
              "      <td>2011.501767</td>\n",
              "      <td>22.120991</td>\n",
              "      <td>7.032648</td>\n",
              "      <td>1.188238</td>\n",
              "      <td>0.806892</td>\n",
              "      <td>1.386984</td>\n",
              "      <td>2.235401</td>\n",
              "    </tr>\n",
              "    <tr>\n",
              "      <th>std</th>\n",
              "      <td>1.512066</td>\n",
              "      <td>38.301800</td>\n",
              "      <td>17.894886</td>\n",
              "      <td>2.661162</td>\n",
              "      <td>1.576505</td>\n",
              "      <td>14.257798</td>\n",
              "      <td>5.059961</td>\n",
              "    </tr>\n",
              "    <tr>\n",
              "      <th>min</th>\n",
              "      <td>2010.000000</td>\n",
              "      <td>0.000000</td>\n",
              "      <td>0.000000</td>\n",
              "      <td>0.000000</td>\n",
              "      <td>0.000000</td>\n",
              "      <td>0.000000</td>\n",
              "      <td>0.000000</td>\n",
              "    </tr>\n",
              "    <tr>\n",
              "      <th>25%</th>\n",
              "      <td>2010.000000</td>\n",
              "      <td>3.795000</td>\n",
              "      <td>0.500000</td>\n",
              "      <td>0.270000</td>\n",
              "      <td>0.100000</td>\n",
              "      <td>0.040000</td>\n",
              "      <td>0.550000</td>\n",
              "    </tr>\n",
              "    <tr>\n",
              "      <th>50%</th>\n",
              "      <td>2010.000000</td>\n",
              "      <td>11.450000</td>\n",
              "      <td>1.820000</td>\n",
              "      <td>0.500000</td>\n",
              "      <td>0.340000</td>\n",
              "      <td>0.120000</td>\n",
              "      <td>1.110000</td>\n",
              "    </tr>\n",
              "    <tr>\n",
              "      <th>75%</th>\n",
              "      <td>2013.000000</td>\n",
              "      <td>22.930000</td>\n",
              "      <td>5.745000</td>\n",
              "      <td>1.300000</td>\n",
              "      <td>0.750000</td>\n",
              "      <td>0.350000</td>\n",
              "      <td>2.250000</td>\n",
              "    </tr>\n",
              "    <tr>\n",
              "      <th>max</th>\n",
              "      <td>2014.000000</td>\n",
              "      <td>278.040000</td>\n",
              "      <td>144.660000</td>\n",
              "      <td>28.840000</td>\n",
              "      <td>11.300000</td>\n",
              "      <td>222.070000</td>\n",
              "      <td>56.450000</td>\n",
              "    </tr>\n",
              "  </tbody>\n",
              "</table>\n",
              "</div>"
            ],
            "text/plain": [
              "              Year  Total density per 100 000 population: Health posts  \\\n",
              "count   283.000000                                         222.000000    \n",
              "mean   2011.501767                                          22.120991    \n",
              "std       1.512066                                          38.301800    \n",
              "min    2010.000000                                           0.000000    \n",
              "25%    2010.000000                                           3.795000    \n",
              "50%    2010.000000                                          11.450000    \n",
              "75%    2013.000000                                          22.930000    \n",
              "max    2014.000000                                         278.040000    \n",
              "\n",
              "       Total density per 100 000 population: Health centres  \\\n",
              "count                                         219.000000      \n",
              "mean                                            7.032648      \n",
              "std                                            17.894886      \n",
              "min                                             0.000000      \n",
              "25%                                             0.500000      \n",
              "50%                                             1.820000      \n",
              "75%                                             5.745000      \n",
              "max                                           144.660000      \n",
              "\n",
              "       Total density per 100 000 population: District/rural hospitals  \\\n",
              "count                                         244.000000                \n",
              "mean                                            1.188238                \n",
              "std                                             2.661162                \n",
              "min                                             0.000000                \n",
              "25%                                             0.270000                \n",
              "50%                                             0.500000                \n",
              "75%                                             1.300000                \n",
              "max                                            28.840000                \n",
              "\n",
              "       Total density per 100 000 population: Provincial hospitals  \\\n",
              "count                                         251.000000            \n",
              "mean                                            0.806892            \n",
              "std                                             1.576505            \n",
              "min                                             0.000000            \n",
              "25%                                             0.100000            \n",
              "50%                                             0.340000            \n",
              "75%                                             0.750000            \n",
              "max                                            11.300000            \n",
              "\n",
              "       Total density per 100 000 population: Specialized hospitals  \\\n",
              "count                                         252.000000             \n",
              "mean                                            1.386984             \n",
              "std                                            14.257798             \n",
              "min                                             0.000000             \n",
              "25%                                             0.040000             \n",
              "50%                                             0.120000             \n",
              "75%                                             0.350000             \n",
              "max                                           222.070000             \n",
              "\n",
              "       Total density per 100 000 population: Hospitals  \n",
              "count                                       137.000000  \n",
              "mean                                          2.235401  \n",
              "std                                           5.059961  \n",
              "min                                           0.000000  \n",
              "25%                                           0.550000  \n",
              "50%                                           1.110000  \n",
              "75%                                           2.250000  \n",
              "max                                          56.450000  "
            ]
          },
          "execution_count": 8,
          "metadata": {},
          "output_type": "execute_result"
        }
      ],
      "source": [
        "# statistical description\n",
        "df.describe()"
      ]
    },
    {
      "cell_type": "code",
      "execution_count": 9,
      "metadata": {},
      "outputs": [
        {
          "data": {
            "text/plain": [
              "2010    142\n",
              "2013    139\n",
              "2014      2\n",
              "Name: Year, dtype: int64"
            ]
          },
          "execution_count": 9,
          "metadata": {},
          "output_type": "execute_result"
        }
      ],
      "source": [
        "# return a total count for each year in the dataset\n",
        "df.Year.value_counts()"
      ]
    },
    {
      "cell_type": "code",
      "execution_count": 10,
      "metadata": {
        "colab": {
          "base_uri": "https://localhost:8080/"
        },
        "id": "boUE_e4WYTfi",
        "outputId": "b516367a-0b88-4d35-c21c-7c6339e32b8e"
      },
      "outputs": [
        {
          "data": {
            "image/png": "[encoded data removed]",
            "text/plain": [
              "<Figure size 432x288 with 1 Axes>"
            ]
          },
          "metadata": {
            "needs_background": "light"
          },
          "output_type": "display_data"
        }
      ],
      "source": [
        "# Plotting the total count for each year\n",
        "ax = df.Year.value_counts().plot(kind='barh')\n",
        "\n",
        "# Adding title and labels\n",
        "ax.set_title('Total Count of Data for Each Year')\n",
        "ax.set_xlabel('Count')\n",
        "ax.set_ylabel('Year')\n",
        "\n",
        "plt.show()"
      ]
    },
    {
      "cell_type": "code",
      "execution_count": 11,
      "metadata": {
        "colab": {
          "base_uri": "https://localhost:8080/"
        },
        "id": "MkX8tI9YZj9H",
        "outputId": "cca85f30-7d36-401d-ac7b-cc673a2c8b7b"
      },
      "outputs": [
        {
          "data": {
            "text/plain": [
              "Afghanistan                    2\n",
              "Niger                          2\n",
              "Myanmar                        2\n",
              "Namibia                        2\n",
              "Nauru                          2\n",
              "                              ..\n",
              "China                          1\n",
              "Tuvalu                         1\n",
              "Russian Federation             1\n",
              "Republic of North Macedonia    1\n",
              "Angola                         1\n",
              "Name: Country, Length: 144, dtype: int64"
            ]
          },
          "execution_count": 11,
          "metadata": {},
          "output_type": "execute_result"
        }
      ],
      "source": [
        "# return a total count for each country in the dataset\n",
        "df['Country'].value_counts()"
      ]
    },
    {
      "cell_type": "code",
      "execution_count": 12,
      "metadata": {
        "colab": {
          "base_uri": "https://localhost:8080/"
        },
        "id": "Tgb7Y5cab7qo",
        "outputId": "02279aad-c552-4ab6-8491-b741c6dc11fe"
      },
      "outputs": [
        {
          "data": {
            "text/plain": [
              "(283, 8)"
            ]
          },
          "execution_count": 12,
          "metadata": {},
          "output_type": "execute_result"
        }
      ],
      "source": [
        "# check the shape of the dataset i.e. the number of rows and columns\n",
        "df.shape"
      ]
    },
    {
      "cell_type": "code",
      "execution_count": 13,
      "metadata": {
        "colab": {
          "base_uri": "https://localhost:8080/"
        },
        "id": "fLimQ7zab7qp",
        "outputId": "925a75f6-2fa1-4ec4-e591-0eaf8f295dcb"
      },
      "outputs": [
        {
          "name": "stdout",
          "output_type": "stream",
          "text": [
            "<class 'pandas.core.frame.DataFrame'>\n",
            "RangeIndex: 283 entries, 0 to 282\n",
            "Data columns (total 8 columns):\n",
            " #   Column                                                          Non-Null Count  Dtype  \n",
            "---  ------                                                          --------------  -----  \n",
            " 0   Country                                                         283 non-null    object \n",
            " 1   Year                                                            283 non-null    int64  \n",
            " 2   Total density per 100 000 population: Health posts              222 non-null    float64\n",
            " 3   Total density per 100 000 population: Health centres            219 non-null    float64\n",
            " 4   Total density per 100 000 population: District/rural hospitals  244 non-null    float64\n",
            " 5   Total density per 100 000 population: Provincial hospitals      251 non-null    float64\n",
            " 6   Total density per 100 000 population: Specialized hospitals     252 non-null    float64\n",
            " 7   Total density per 100 000 population: Hospitals                 137 non-null    float64\n",
            "dtypes: float64(6), int64(1), object(1)\n",
            "memory usage: 17.8+ KB\n"
          ]
        }
      ],
      "source": [
        "# information about the dataset\n",
        "df.info()"
      ]
    },
    {
      "cell_type": "code",
      "execution_count": 14,
      "metadata": {
        "colab": {
          "base_uri": "https://localhost:8080/"
        },
        "id": "K_JASPedS9LE",
        "outputId": "c645a43e-a7cc-43d1-f365-656b13fcd3c3"
      },
      "outputs": [
        {
          "data": {
            "text/plain": [
              "float64    6\n",
              "object     1\n",
              "int64      1\n",
              "dtype: int64"
            ]
          },
          "execution_count": 14,
          "metadata": {},
          "output_type": "execute_result"
        }
      ],
      "source": [
        "# Check the datatype counts of the dataset\n",
        "df.dtypes.value_counts()"
      ]
    },
    {
      "cell_type": "code",
      "execution_count": 15,
      "metadata": {
        "colab": {
          "base_uri": "https://localhost:8080/"
        },
        "id": "X8nItxjwb7qq",
        "outputId": "d20a02f4-c3e1-40ef-d1b7-794e512ca901"
      },
      "outputs": [
        {
          "data": {
            "text/plain": [
              "Country                                                           144\n",
              "Year                                                                3\n",
              "Total density per 100 000 population: Health posts                205\n",
              "Total density per 100 000 population: Health centres              169\n",
              "Total density per 100 000 population: District/rural hospitals    136\n",
              "Total density per 100 000 population: Provincial hospitals        116\n",
              "Total density per 100 000 population: Specialized hospitals        73\n",
              "Total density per 100 000 population: Hospitals                   116\n",
              "dtype: int64"
            ]
          },
          "execution_count": 15,
          "metadata": {},
          "output_type": "execute_result"
        }
      ],
      "source": [
        "# number of unique values in each features\n",
        "df.nunique()"
      ]
    },
    {
      "cell_type": "code",
      "execution_count": 16,
      "metadata": {
        "colab": {
          "base_uri": "https://localhost:8080/"
        },
        "id": "e9jnJorYb2T9",
        "outputId": "6f58bba8-8625-44ee-ba72-6b11ae0ea87b"
      },
      "outputs": [
        {
          "data": {
            "text/plain": [
              "False"
            ]
          },
          "execution_count": 16,
          "metadata": {},
          "output_type": "execute_result"
        }
      ],
      "source": [
        "# check for duplicated record\n",
        "df.duplicated().any()"
      ]
    },
    {
      "cell_type": "code",
      "execution_count": 17,
      "metadata": {
        "colab": {
          "base_uri": "https://localhost:8080/"
        },
        "id": "wWRjP9jGTKZp",
        "outputId": "dc472c58-9fbe-40cd-abca-e5c462fba4b7"
      },
      "outputs": [
        {
          "data": {
            "text/plain": [
              "Country                                                             0\n",
              "Year                                                                0\n",
              "Total density per 100 000 population: Health posts                 61\n",
              "Total density per 100 000 population: Health centres               64\n",
              "Total density per 100 000 population: District/rural hospitals     39\n",
              "Total density per 100 000 population: Provincial hospitals         32\n",
              "Total density per 100 000 population: Specialized hospitals        31\n",
              "Total density per 100 000 population: Hospitals                   146\n",
              "dtype: int64"
            ]
          },
          "execution_count": 17,
          "metadata": {},
          "output_type": "execute_result"
        }
      ],
      "source": [
        "# check for missingness in the features\n",
        "df.isnull().sum()"
      ]
    },
    {
      "cell_type": "code",
      "execution_count": 18,
      "metadata": {
        "colab": {
          "base_uri": "https://localhost:8080/"
        },
        "id": "vRWF3xxecL4u",
        "outputId": "de71d46a-1130-4752-b80a-9eebcde82855"
      },
      "outputs": [
        {
          "data": {
            "text/plain": [
              "Country                                                            0.00\n",
              "Year                                                               0.00\n",
              "Total density per 100 000 population: Health posts                21.55\n",
              "Total density per 100 000 population: Health centres              22.61\n",
              "Total density per 100 000 population: District/rural hospitals    13.78\n",
              "Total density per 100 000 population: Provincial hospitals        11.31\n",
              "Total density per 100 000 population: Specialized hospitals       10.95\n",
              "Total density per 100 000 population: Hospitals                   51.59\n",
              "dtype: float64"
            ]
          },
          "execution_count": 18,
          "metadata": {},
          "output_type": "execute_result"
        }
      ],
      "source": [
        "# check for % of null record\n",
        "round(df.isnull().sum()/len(df)*100, 2)"
      ]
    },
    {
      "cell_type": "markdown",
      "metadata": {
        "id": "tx9o1S6yemDG"
      },
      "source": [
        "# Data transformation"
      ]
    },
    {
      "cell_type": "code",
      "execution_count": 19,
      "metadata": {
        "colab": {
          "base_uri": "https://localhost:8080/"
        },
        "id": "w9fNfylUaObW",
        "outputId": "a768b992-b002-49f0-a77e-dc8179771304"
      },
      "outputs": [
        {
          "data": {
            "text/plain": [
              "Index(['Country', 'Year', 'Total density per 100 000 population: Health posts',\n",
              "       'Total density per 100 000 population: Health centres',\n",
              "       'Total density per 100 000 population: District/rural hospitals',\n",
              "       'Total density per 100 000 population: Provincial hospitals',\n",
              "       'Total density per 100 000 population: Specialized hospitals',\n",
              "       'Total density per 100 000 population: Hospitals'],\n",
              "      dtype='object')"
            ]
          },
          "execution_count": 19,
          "metadata": {},
          "output_type": "execute_result"
        }
      ],
      "source": [
        "# print column names\n",
        "df.columns"
      ]
    },
    {
      "cell_type": "code",
      "execution_count": 20,
      "metadata": {
        "id": "Y0g5yKzzWAAt"
      },
      "outputs": [],
      "source": [
        "# rename columns with shorter names using mapping \n",
        "mapping = {\n",
        "    'Total density per 100 000 population: Health posts': 'Health Posts',\n",
        "    'Total density per 100 000 population: Health centres': 'Health Centres',\n",
        "    'Total density per 100 000 population: District/rural hospitals': 'District/Rural Hospitals',\n",
        "    'Total density per 100 000 population: Provincial hospitals': 'Provincial Hospitals',\n",
        "    'Total density per 100 000 population: Specialized hospitals': 'Specialized Hospitals',\n",
        "    'Total density per 100 000 population: Hospitals': 'General Hospitals'\n",
        "}\n",
        "\n",
        "# Rename the columns using the mapping\n",
        "df = df.rename(columns=mapping)"
      ]
    },
    {
      "cell_type": "code",
      "execution_count": 21,
      "metadata": {
        "colab": {
          "base_uri": "https://localhost:8080/",
          "height": 426
        },
        "id": "T6Wj7MxRXDt_",
        "outputId": "87de71f1-a6f7-43e0-c7b6-dfcdc3844607"
      },
      "outputs": [
        {
          "data": {
            "text/html": [
              "<div>\n",
              "<style scoped>\n",
              "    .dataframe tbody tr th:only-of-type {\n",
              "        vertical-align: middle;\n",
              "    }\n",
              "\n",
              "    .dataframe tbody tr th {\n",
              "        vertical-align: top;\n",
              "    }\n",
              "\n",
              "    .dataframe thead th {\n",
              "        text-align: right;\n",
              "    }\n",
              "</style>\n",
              "<table border=\"1\" class=\"dataframe\">\n",
              "  <thead>\n",
              "    <tr style=\"text-align: right;\">\n",
              "      <th></th>\n",
              "      <th>Country</th>\n",
              "      <th>Year</th>\n",
              "      <th>Health Posts</th>\n",
              "      <th>Health Centres</th>\n",
              "      <th>District/Rural Hospitals</th>\n",
              "      <th>Provincial Hospitals</th>\n",
              "      <th>Specialized Hospitals</th>\n",
              "      <th>General Hospitals</th>\n",
              "    </tr>\n",
              "  </thead>\n",
              "  <tbody>\n",
              "    <tr>\n",
              "      <th>0</th>\n",
              "      <td>Afghanistan</td>\n",
              "      <td>2013</td>\n",
              "      <td>2.95</td>\n",
              "      <td>1.22</td>\n",
              "      <td>0.18</td>\n",
              "      <td>0.10</td>\n",
              "      <td>0.09</td>\n",
              "      <td>0.37</td>\n",
              "    </tr>\n",
              "    <tr>\n",
              "      <th>1</th>\n",
              "      <td>Afghanistan</td>\n",
              "      <td>2010</td>\n",
              "      <td>2.87</td>\n",
              "      <td>1.19</td>\n",
              "      <td>0.18</td>\n",
              "      <td>0.10</td>\n",
              "      <td>0.08</td>\n",
              "      <td>NaN</td>\n",
              "    </tr>\n",
              "    <tr>\n",
              "      <th>2</th>\n",
              "      <td>Albania</td>\n",
              "      <td>2013</td>\n",
              "      <td>13.08</td>\n",
              "      <td>NaN</td>\n",
              "      <td>0.72</td>\n",
              "      <td>0.35</td>\n",
              "      <td>0.28</td>\n",
              "      <td>1.36</td>\n",
              "    </tr>\n",
              "    <tr>\n",
              "      <th>3</th>\n",
              "      <td>Albania</td>\n",
              "      <td>2010</td>\n",
              "      <td>12.95</td>\n",
              "      <td>NaN</td>\n",
              "      <td>0.72</td>\n",
              "      <td>0.34</td>\n",
              "      <td>0.28</td>\n",
              "      <td>NaN</td>\n",
              "    </tr>\n",
              "    <tr>\n",
              "      <th>4</th>\n",
              "      <td>Angola</td>\n",
              "      <td>2010</td>\n",
              "      <td>NaN</td>\n",
              "      <td>NaN</td>\n",
              "      <td>NaN</td>\n",
              "      <td>0.00</td>\n",
              "      <td>0.00</td>\n",
              "      <td>NaN</td>\n",
              "    </tr>\n",
              "  </tbody>\n",
              "</table>\n",
              "</div>"
            ],
            "text/plain": [
              "       Country  Year  Health Posts  Health Centres  District/Rural Hospitals  \\\n",
              "0  Afghanistan  2013          2.95            1.22                      0.18   \n",
              "1  Afghanistan  2010          2.87            1.19                      0.18   \n",
              "2      Albania  2013         13.08             NaN                      0.72   \n",
              "3      Albania  2010         12.95             NaN                      0.72   \n",
              "4       Angola  2010           NaN             NaN                       NaN   \n",
              "\n",
              "   Provincial Hospitals  Specialized Hospitals  General Hospitals  \n",
              "0                  0.10                   0.09               0.37  \n",
              "1                  0.10                   0.08                NaN  \n",
              "2                  0.35                   0.28               1.36  \n",
              "3                  0.34                   0.28                NaN  \n",
              "4                  0.00                   0.00                NaN  "
            ]
          },
          "execution_count": 21,
          "metadata": {},
          "output_type": "execute_result"
        }
      ],
      "source": [
        "# print Data frame after rename columns\n",
        "df.head()"
      ]
    },
    {
      "cell_type": "code",
      "execution_count": 22,
      "metadata": {
        "colab": {
          "base_uri": "https://localhost:8080/",
          "height": 589
        },
        "id": "-ZH4z312TW1A",
        "outputId": "cb51f06f-37ee-4866-92b9-cf6a15773403"
      },
      "outputs": [
        {
          "data": {
            "image/png": "[encoded data removed]",
            "text/plain": [
              "<Figure size 432x288 with 1 Axes>"
            ]
          },
          "metadata": {
            "needs_background": "light"
          },
          "output_type": "display_data"
        }
      ],
      "source": [
        "# plot the missingness in the features\n",
        "ax = df.isnull().sum().plot(kind='barh')\n",
        "# Adding title and labels\n",
        "ax.set_title('Plot of missing values in the features')\n",
        "ax.set_xlabel('Count')\n",
        "ax.set_ylabel('Features')\n",
        "\n",
        "plt.show()"
      ]
    },
    {
      "cell_type": "code",
      "execution_count": 23,
      "metadata": {
        "colab": {
          "base_uri": "https://localhost:8080/",
          "height": 440
        },
        "id": "bJyBkDE3b7qq",
        "outputId": "40211fa6-4ec6-410b-c002-2f866b48ea2f"
      },
      "outputs": [
        {
          "data": {
            "text/html": [
              "<div>\n",
              "<style scoped>\n",
              "    .dataframe tbody tr th:only-of-type {\n",
              "        vertical-align: middle;\n",
              "    }\n",
              "\n",
              "    .dataframe tbody tr th {\n",
              "        vertical-align: top;\n",
              "    }\n",
              "\n",
              "    .dataframe thead th {\n",
              "        text-align: right;\n",
              "    }\n",
              "</style>\n",
              "<table border=\"1\" class=\"dataframe\">\n",
              "  <thead>\n",
              "    <tr style=\"text-align: right;\">\n",
              "      <th></th>\n",
              "      <th>Health Posts</th>\n",
              "      <th>Health Centres</th>\n",
              "      <th>District/Rural Hospitals</th>\n",
              "      <th>Provincial Hospitals</th>\n",
              "      <th>Specialized Hospitals</th>\n",
              "      <th>General Hospitals</th>\n",
              "    </tr>\n",
              "    <tr>\n",
              "      <th>Year</th>\n",
              "      <th></th>\n",
              "      <th></th>\n",
              "      <th></th>\n",
              "      <th></th>\n",
              "      <th></th>\n",
              "      <th></th>\n",
              "    </tr>\n",
              "  </thead>\n",
              "  <tbody>\n",
              "    <tr>\n",
              "      <th>2010</th>\n",
              "      <td>2449.63</td>\n",
              "      <td>760.97</td>\n",
              "      <td>146.10</td>\n",
              "      <td>102.55</td>\n",
              "      <td>287.10</td>\n",
              "      <td>0.00</td>\n",
              "    </tr>\n",
              "    <tr>\n",
              "      <th>2013</th>\n",
              "      <td>2461.23</td>\n",
              "      <td>777.29</td>\n",
              "      <td>143.07</td>\n",
              "      <td>98.32</td>\n",
              "      <td>60.74</td>\n",
              "      <td>302.15</td>\n",
              "    </tr>\n",
              "    <tr>\n",
              "      <th>2014</th>\n",
              "      <td>0.00</td>\n",
              "      <td>1.89</td>\n",
              "      <td>0.76</td>\n",
              "      <td>1.66</td>\n",
              "      <td>1.68</td>\n",
              "      <td>4.10</td>\n",
              "    </tr>\n",
              "  </tbody>\n",
              "</table>\n",
              "</div>"
            ],
            "text/plain": [
              "      Health Posts  Health Centres  District/Rural Hospitals  \\\n",
              "Year                                                           \n",
              "2010       2449.63          760.97                    146.10   \n",
              "2013       2461.23          777.29                    143.07   \n",
              "2014          0.00            1.89                      0.76   \n",
              "\n",
              "      Provincial Hospitals  Specialized Hospitals  General Hospitals  \n",
              "Year                                                                  \n",
              "2010                102.55                 287.10               0.00  \n",
              "2013                 98.32                  60.74             302.15  \n",
              "2014                  1.66                   1.68               4.10  "
            ]
          },
          "execution_count": 23,
          "metadata": {},
          "output_type": "execute_result"
        }
      ],
      "source": [
        "# Grouping the DataFrame by the 'Year' column and calculating the sum for each year\n",
        "df.groupby('Year').sum()"
      ]
    },
    {
      "cell_type": "code",
      "execution_count": 24,
      "metadata": {
        "id": "fq_Z0vaUb7qr"
      },
      "outputs": [],
      "source": [
        "# convert year to date time \n",
        "from datetime import datetime\n",
        "\n",
        "df['Year'] = pd.to_datetime(df.Year,format='%Y')"
      ]
    },
    {
      "cell_type": "code",
      "execution_count": 25,
      "metadata": {
        "colab": {
          "base_uri": "https://localhost:8080/",
          "height": 1000
        },
        "id": "kBZ8rZdUgz2e",
        "outputId": "2f5f9632-6dd8-45fd-bd3d-5523bc7cca53"
      },
      "outputs": [
        {
          "data": {
            "image/png": "[encoded data removed]",
            "text/plain": [
              "<Figure size 864x576 with 2 Axes>"
            ]
          },
          "metadata": {
            "needs_background": "light"
          },
          "output_type": "display_data"
        }
      ],
      "source": [
        "# get correlations of each features in dataset\n",
        "corrmat = df.corr()\n",
        "top_corr_features = corrmat.index\n",
        "mask= np.triu(top_corr_features)\n",
        "plt.figure(figsize=(12,8))\n",
        "#plot heat map\n",
        "sns.heatmap(df[top_corr_features].corr(),annot=True, fmt='.2f', mask=mask, cmap='Spectral_r');"
      ]
    }
  ],
  "metadata": {
    "colab": {
      "include_colab_link": true,
      "provenance": []
    },
    "kernelspec": {
      "display_name": "Python 3",
      "language": "python",
      "name": "python3"
    },
    "language_info": {
      "codemirror_mode": {
        "name": "ipython",
        "version": 3
      },
      "file_extension": ".py",
      "mimetype": "text/x-python",
      "name": "python",
      "nbconvert_exporter": "python",
      "pygments_lexer": "ipython3",
      "version": "3.9.13"
    },
    "vscode": {
      "interpreter": {
        "hash": "82ed002fa2d4956f5c6aec99bcefe0f73a9f79882f3c9e2319b14958a5896ac5"
      }
    }
  },
  "nbformat": 4,
  "nbformat_minor": 0
}
